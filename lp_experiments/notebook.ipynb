{
 "cells": [
  {
   "cell_type": "code",
   "execution_count": 8,
   "metadata": {},
   "outputs": [],
   "source": [
    "from pyshacl.validate import Validator\n",
    "from rdflib import OWL, RDF, RDFS, SH, Graph, Namespace"
   ]
  },
  {
   "cell_type": "code",
   "execution_count": 9,
   "metadata": {},
   "outputs": [],
   "source": [
    "S223 = Namespace(\"http://data.ashrae.org/standard223#\")"
   ]
  },
  {
   "cell_type": "code",
   "execution_count": 10,
   "metadata": {},
   "outputs": [],
   "source": [
    "g = Graph()\n",
    "#g.parse('../223standard/models/MODEL_SP223_core-v1.0.ttl')"
   ]
  },
  {
   "cell_type": "code",
   "execution_count": 11,
   "metadata": {},
   "outputs": [],
   "source": [
    "# Validation function for G36\n",
    "def run_validation(g, sg):\n",
    "    v = Validator(\n",
    "        g,\n",
    "        shacl_graph=sg,\n",
    "        options={\"iterate_rules\": True, \"advanced\": True},\n",
    "    )\n",
    "    conforms, report_graph, report_text = v.run()\n",
    "\n",
    "\n",
    "    namespace_map = {}\n",
    "    for prefix, uriref in report_graph.namespaces():\n",
    "        namespace_map[prefix] = Namespace(uriref)\n",
    "        # Need OR for result Message\n",
    "    qs = \"\"\"\n",
    "        SELECT ?focusNode ?resultMessage ?resultSeverity ?resultPath\n",
    "        WHERE {\n",
    "            BIND(s223:g36 AS ?resultSeverity) .\n",
    "            ?report rdf:type sh:ValidationReport .\n",
    "            ?report sh:result ?result .\n",
    "            ?result sh:focusNode ?focusNode .\n",
    "            OPTIONAL {?result sh:resultMessage ?resultMessage} .\n",
    "            ?result sh:resultPath ?resultPath .\n",
    "            ?result sh:resultSeverity ?resultSeverity .\n",
    "            }\n",
    "        \"\"\"\n",
    "\n",
    "    # pretty colors\n",
    "    color_map = {SH.Violation: 33, SH.Info: 34, SH.Warning: 35, S223.g36: 36}\n",
    "\n",
    "    # query\n",
    "    results = sorted(report_graph.query(qs, initNs=namespace_map))\n",
    "    \n",
    "    prev = None\n",
    "    for focusNode, resultMessage,resultSeverity, resultPath in results:\n",
    "        if focusNode != prev:\n",
    "            print(focusNode)\n",
    "            prev = focusNode\n",
    "        color = color_map[resultSeverity]\n",
    "        print(f\"\\x1b[{color}m    {resultMessage}\\x1b[0m   {resultPath}\\x1b[0m\")\n",
    "    return report_text"
   ]
  },
  {
   "cell_type": "markdown",
   "metadata": {},
   "source": [
    "## Trying out Flow Or and sh:detail\n",
    "This is random experimentation to get experience writing shacl shapes works. Here I'm testing out using sh:and and sh:or on a simple model file that I've created"
   ]
  },
  {
   "cell_type": "code",
   "execution_count": 15,
   "metadata": {},
   "outputs": [
    {
     "data": {
      "text/plain": [
       "<Graph identifier=N8b7f4ad84f79480d8b21f171c0bcb84b (<class 'rdflib.graph.Graph'>)>"
      ]
     },
     "execution_count": 15,
     "metadata": {},
     "output_type": "execute_result"
    }
   ],
   "source": [
    "file = 'sh-and-or-test.ttl'\n",
    "g = Graph ()\n",
    "g.parse(file)\n",
    "sg = Graph()\n",
    "sg.parse(file)\n",
    "v = Validator(\n",
    "        g,\n",
    "        shacl_graph=sg,\n",
    "        options={\"iterate_rules\": True, \"advanced\": True},\n",
    "    )\n",
    "conforms, report_graph, report_text = v.run()\n",
    "print(report_text)\n"
   ]
  },
  {
   "cell_type": "markdown",
   "metadata": {},
   "source": [
    "## Trying out subclass of carying sh:property constraints\n",
    "At a high level, we are writing SHACL rules to see when something is a VAV with reheat. If somebody declares that their model is of a VAV with reheat, then this validation rule should be run. It should not however be run for all things of the class VAV, which is why it makes less sense to use sh:targetClass in the long run. \n",
    "The main issue we ran into was that SHACL doesn't inherit properties and apply them when sh:targetClass is used. So this means SHACL constraints using sh:targetClass can not inherit properties from their parent classes using rdfs:subClassOf.\n",
    "However, inheritance can work for sh:properties. If a parent shape is a class (rdfs:Class), and subshapes are rdfs:subclasses of it, then the sh:properties of the parent class will be inherited. The target of this shape must be an INSTANCE of that shape (a, rdf:type) rather than using sh:targetClass. (This makes more sense anyway, because for this project we will be validating specific instances and models, rather than classes.)\n",
    "so instead of:\n",
    ":constraint\n",
    "    a sh:NodeShape;\n",
    "    sh:targetClass :class .\n",
    "we should have \n",
    ":constraint \n",
    "    a sh:NodeShape, rdfs:Class ;\n",
    "    sh:class :class\n",
    ":instance\n",
    "    a :class ;\n",
    "    a :constraint ;\n",
    ".\n",
    "\n",
    "This could work by ADDING the triple \":instance a :constraint\" when validation is run. \n",
    "so, before validation the instance is just a :class \n",
    ":instance \n",
    "    a:class .\n",
    "then before validation is run, the instance is targeted by further describing what it should be (something satisfying :constraint).\n",
    "the instance is made \n",
    ":instance \n",
    "    a :class, :constraint .\n"
   ]
  },
  {
   "cell_type": "code",
   "execution_count": 7,
   "metadata": {},
   "outputs": [
    {
     "name": "stdout",
     "output_type": "stream",
     "text": [
      "Validation Report\n",
      "Conforms: False\n",
      "Results (2):\n",
      "Constraint Violation in ClassConstraintComponent (http://www.w3.org/ns/shacl#ClassConstraintComponent):\n",
      "\tSeverity: sh:Violation\n",
      "\tSource Shape: test:constraint\n",
      "\tFocus Node: test:invalid_class_type\n",
      "\tValue Node: test:invalid_class_type\n",
      "\tMessage: constraint applied to an invalid class\n",
      "Constraint Violation in MinCountConstraintComponent (http://www.w3.org/ns/shacl#MinCountConstraintComponent):\n",
      "\tSeverity: sh:Violation\n",
      "\tSource Shape: [ sh:minCount Literal(\"1\", datatype=xsd:integer) ; sh:path test:test_prop ]\n",
      "\tFocus Node: test:instance\n",
      "\tResult Path: test:test_prop\n",
      "\tMessage: Less than 1 values on test:instance->test:test_prop\n",
      "\n"
     ]
    }
   ],
   "source": [
    "file = 'gen-test.ttl'\n",
    "g = Graph ()\n",
    "g.parse(file)\n",
    "sg = Graph()\n",
    "sg.parse(file)\n",
    "v = Validator(\n",
    "        g,\n",
    "        shacl_graph=sg,\n",
    "        options={\"iterate_rules\": True, \"advanced\": True},\n",
    "    )\n",
    "conforms, report_graph, report_text = v.run()\n",
    "print(report_text)\n"
   ]
  },
  {
   "cell_type": "code",
   "execution_count": null,
   "metadata": {},
   "outputs": [],
   "source": []
  },
  {
   "cell_type": "code",
   "execution_count": null,
   "metadata": {},
   "outputs": [],
   "source": []
  }
 ],
 "metadata": {
  "kernelspec": {
   "display_name": "Python 3.9.13 ('si-builder')",
   "language": "python",
   "name": "python3"
  },
  "language_info": {
   "codemirror_mode": {
    "name": "ipython",
    "version": 3
   },
   "file_extension": ".py",
   "mimetype": "text/x-python",
   "name": "python",
   "nbconvert_exporter": "python",
   "pygments_lexer": "ipython3",
   "version": "3.9.13"
  },
  "vscode": {
   "interpreter": {
    "hash": "e9613e9bed14e4b8e07c6b3865c3348cec85d9ef797d1c6772eb9da8ede9a4ce"
   }
  }
 },
 "nbformat": 4,
 "nbformat_minor": 4
}
