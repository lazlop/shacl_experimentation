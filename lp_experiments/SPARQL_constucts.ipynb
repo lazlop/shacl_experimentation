{
 "cells": [
  {
   "cell_type": "code",
   "execution_count": 327,
   "metadata": {},
   "outputs": [],
   "source": [
    "import pyshacl\n",
    "from rdflib import OWL, RDF, RDFS, SH, Graph, Namespace"
   ]
  },
  {
   "cell_type": "code",
   "execution_count": 360,
   "metadata": {},
   "outputs": [
    {
     "data": {
      "text/plain": [
       "<Graph identifier=Ne8d7926cfbfd4bd2b6744624a09ee97a (<class 'rdflib.graph.Graph'>)>"
      ]
     },
     "execution_count": 360,
     "metadata": {},
     "output_type": "execute_result"
    }
   ],
   "source": [
    "file = 'SPARQL-test.ttl'\n",
    "#file = 'construct_typing.ttl'\n",
    "\n",
    "g = Graph ()\n",
    "g.parse(file)\n",
    "sg = Graph()\n",
    "sg.parse(file)\n",
    "\n",
    "# graph before validation\n",
    "og = Graph()\n",
    "pyshacl.rdfutil.clone.clone_graph(g, og)"
   ]
  },
  {
   "cell_type": "code",
   "execution_count": 361,
   "metadata": {},
   "outputs": [],
   "source": [
    "valid, report_graph, report_text = pyshacl.validate(\n",
    "    data_graph=g,\n",
    "    shacl_graph=sg,\n",
    "    advanced=True,\n",
    "    js=True,\n",
    "    allow_warnings=False,\n",
    "    inplace=True,\n",
    "    iterate_rules=True,\n",
    ")"
   ]
  },
  {
   "cell_type": "code",
   "execution_count": 362,
   "metadata": {},
   "outputs": [],
   "source": [
    "# removing the original graph information from the validated/inferenced graph\n",
    "added_triples = g - og"
   ]
  },
  {
   "cell_type": "code",
   "execution_count": 363,
   "metadata": {},
   "outputs": [
    {
     "name": "stdout",
     "output_type": "stream",
     "text": [
      "\n",
      "<http://example.org/testing#instance> a <http://example.org/testing#parameter> .\n",
      "\n",
      "<http://example.org/testing#instance2> a <http://example.org/testing#variable> .\n",
      "\n",
      "<http://example.org/testing#instance3> a <http://example.org/testing#NOTvariable> .\n",
      "\n",
      "\n"
     ]
    }
   ],
   "source": [
    "added_triples.print()"
   ]
  },
  {
   "cell_type": "code",
   "execution_count": 364,
   "metadata": {},
   "outputs": [
    {
     "name": "stdout",
     "output_type": "stream",
     "text": [
      "http://example.org/testing#instance3\n",
      "\u001b[33m    instance is not a valid variable\u001b[0m   http://example.org/testing#test_prop\u001b[0m\n"
     ]
    }
   ],
   "source": [
    "namespace_map = {}\n",
    "for prefix, uriref in report_graph.namespaces():\n",
    "    namespace_map[prefix] = Namespace(uriref)\n",
    "    # Need OR for result Message\n",
    "qs = \"\"\"\n",
    "    SELECT ?focusNode ?resultMessage ?resultSeverity ?resultPath\n",
    "    WHERE {\n",
    "        BIND(sh:Violation AS ?resultSeverity) .\n",
    "        ?report rdf:type sh:ValidationReport .\n",
    "        ?report sh:result ?result .\n",
    "        ?result sh:focusNode ?focusNode .\n",
    "        OPTIONAL {?result sh:resultMessage ?resultMessage} .\n",
    "        ?result sh:resultPath ?resultPath .\n",
    "        ?result sh:resultSeverity ?resultSeverity .\n",
    "        }\n",
    "    \"\"\"\n",
    "\n",
    "# pretty colors\n",
    "color_map = {SH.Violation: 33, SH.Info: 34, SH.Warning: 35}\n",
    "\n",
    "# query\n",
    "results = sorted(report_graph.query(qs, initNs=namespace_map))\n",
    "\n",
    "prev = None\n",
    "for focusNode, resultMessage,resultSeverity, resultPath in results:\n",
    "    if focusNode != prev:\n",
    "        print(focusNode)\n",
    "        prev = focusNode\n",
    "    color = color_map[resultSeverity]\n",
    "    print(f\"\\x1b[{color}m    {resultMessage}\\x1b[0m   {resultPath}\\x1b[0m\")"
   ]
  },
  {
   "cell_type": "code",
   "execution_count": 365,
   "metadata": {},
   "outputs": [
    {
     "name": "stdout",
     "output_type": "stream",
     "text": [
      "Validation Report\n",
      "Conforms: False\n",
      "Results (1):\n",
      "Constraint Violation in HasValueConstraintComponent (http://www.w3.org/ns/shacl#HasValueConstraintComponent):\n",
      "\tSeverity: sh:Violation\n",
      "\tSource Shape: test:variable_prop_shape\n",
      "\tFocus Node: test:instance3\n",
      "\tResult Path: test:test_prop\n",
      "\tMessage: instance is not a valid variable\n",
      "\n"
     ]
    }
   ],
   "source": [
    "print(report_text)"
   ]
  },
  {
   "cell_type": "code",
   "execution_count": null,
   "metadata": {},
   "outputs": [],
   "source": []
  }
 ],
 "metadata": {
  "kernelspec": {
   "display_name": "Python 3.9.13 ('si-builder')",
   "language": "python",
   "name": "python3"
  },
  "language_info": {
   "codemirror_mode": {
    "name": "ipython",
    "version": 3
   },
   "file_extension": ".py",
   "mimetype": "text/x-python",
   "name": "python",
   "nbconvert_exporter": "python",
   "pygments_lexer": "ipython3",
   "version": "3.9.13"
  },
  "orig_nbformat": 4,
  "vscode": {
   "interpreter": {
    "hash": "e9613e9bed14e4b8e07c6b3865c3348cec85d9ef797d1c6772eb9da8ede9a4ce"
   }
  }
 },
 "nbformat": 4,
 "nbformat_minor": 2
}
