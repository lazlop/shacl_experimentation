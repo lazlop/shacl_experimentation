{
 "cells": [
  {
   "cell_type": "code",
   "execution_count": 497,
   "metadata": {},
   "outputs": [],
   "source": [
    "import pyshacl\n",
    "from rdflib import OWL, RDF, RDFS, SH, Graph, Namespace"
   ]
  },
  {
   "cell_type": "markdown",
   "metadata": {},
   "source": [
    "# Testing on SPARQL info addition"
   ]
  },
  {
   "cell_type": "code",
   "execution_count": 686,
   "metadata": {},
   "outputs": [
    {
     "data": {
      "text/plain": [
       "<Graph identifier=N6cc7aa6208634694b18f4f9cdca6dd95 (<class 'rdflib.graph.Graph'>)>"
      ]
     },
     "execution_count": 686,
     "metadata": {},
     "output_type": "execute_result"
    }
   ],
   "source": [
    "file = 'SPARQL-test.ttl'\n",
    "file = 'construct_typing.ttl'\n",
    "\n",
    "g = Graph ()\n",
    "g.parse(file)\n",
    "sg = Graph()\n",
    "sg.parse(file)\n",
    "\n",
    "# graph before validation\n",
    "og = Graph()\n",
    "pyshacl.rdfutil.clone.clone_graph(g, og)"
   ]
  },
  {
   "cell_type": "code",
   "execution_count": 687,
   "metadata": {},
   "outputs": [],
   "source": [
    "valid, report_graph, report_text = pyshacl.validate(\n",
    "    data_graph=g,\n",
    "    shacl_graph=sg,\n",
    "    advanced=True,\n",
    "    js=True,\n",
    "    allow_warnings=False,\n",
    "    inplace=True,\n",
    "    iterate_rules=True,\n",
    ")"
   ]
  },
  {
   "cell_type": "code",
   "execution_count": 688,
   "metadata": {},
   "outputs": [],
   "source": [
    "# removing the original graph information from the validated/inferenced graph\n",
    "added_triples = g - og"
   ]
  },
  {
   "cell_type": "code",
   "execution_count": 689,
   "metadata": {},
   "outputs": [
    {
     "name": "stdout",
     "output_type": "stream",
     "text": [
      "\n",
      "<http://example.org/testing#chaining2> a <http://example.org/testing#chaining_nodeshape2> .\n",
      "\n",
      "<http://example.org/testing#chaining3> a <http://example.org/testing#chaining_nodeshape3> .\n",
      "\n",
      "\n"
     ]
    }
   ],
   "source": [
    "added_triples.print()"
   ]
  },
  {
   "cell_type": "code",
   "execution_count": 691,
   "metadata": {},
   "outputs": [
    {
     "name": "stdout",
     "output_type": "stream",
     "text": [
      "http://example.org/testing#chaining2\n",
      "\u001b[33m    Value does not conform to Shape test:chaining_nodeshape3\u001b[0m   http://example.org/testing#chain_prop\u001b[0m\n",
      "http://example.org/testing#chaining3\n",
      "\u001b[33m    bottom level propshape\u001b[0m   http://example.org/testing#chain_prop\u001b[0m\n"
     ]
    }
   ],
   "source": [
    "namespace_map = {}\n",
    "for prefix, uriref in report_graph.namespaces():\n",
    "    namespace_map[prefix] = Namespace(uriref)\n",
    "    # Need OR for result Message\n",
    "qs = \"\"\"\n",
    "    SELECT ?focusNode ?resultMessage ?resultSeverity ?resultPath\n",
    "    WHERE {\n",
    "        BIND(sh:Violation AS ?resultSeverity) .\n",
    "        ?report rdf:type sh:ValidationReport .\n",
    "        ?report sh:result ?result .\n",
    "        ?result sh:focusNode ?focusNode .\n",
    "        OPTIONAL {?result sh:resultMessage ?resultMessage} .\n",
    "        ?result sh:resultPath ?resultPath .\n",
    "        ?result sh:resultSeverity ?resultSeverity .\n",
    "        }\n",
    "    \"\"\"\n",
    "\n",
    "# pretty colors\n",
    "color_map = {SH.Violation: 33, SH.Info: 34, SH.Warning: 35}\n",
    "\n",
    "# query\n",
    "results = sorted(report_graph.query(qs, initNs=namespace_map))\n",
    "\n",
    "prev = None\n",
    "for focusNode, resultMessage,resultSeverity, resultPath in results:\n",
    "    if focusNode != prev:\n",
    "        print(focusNode)\n",
    "        prev = focusNode\n",
    "    color = color_map[resultSeverity]\n",
    "    print(f\"\\x1b[{color}m    {resultMessage}\\x1b[0m   {resultPath}\\x1b[0m\")"
   ]
  },
  {
   "cell_type": "code",
   "execution_count": 692,
   "metadata": {},
   "outputs": [
    {
     "name": "stdout",
     "output_type": "stream",
     "text": [
      "Validation Report\n",
      "Conforms: False\n",
      "Results (2):\n",
      "Constraint Violation in NodeConstraintComponent (http://www.w3.org/ns/shacl#NodeConstraintComponent):\n",
      "\tSeverity: sh:Violation\n",
      "\tSource Shape: test:cps2\n",
      "\tFocus Node: test:chaining2\n",
      "\tValue Node: test:chaining3\n",
      "\tResult Path: test:chain_prop\n",
      "\tMessage: Value does not conform to Shape test:chaining_nodeshape3\n",
      "Constraint Violation in HasValueConstraintComponent (http://www.w3.org/ns/shacl#HasValueConstraintComponent):\n",
      "\tSeverity: sh:Violation\n",
      "\tSource Shape: test:cps3\n",
      "\tFocus Node: test:chaining3\n",
      "\tResult Path: test:chain_prop\n",
      "\tMessage: bottom level propshape\n",
      "\n"
     ]
    }
   ],
   "source": [
    "print(report_text)"
   ]
  },
  {
   "cell_type": "markdown",
   "metadata": {},
   "source": [
    "# recursive targetting"
   ]
  },
  {
   "cell_type": "markdown",
   "metadata": {},
   "source": [
    "## queries"
   ]
  },
  {
   "cell_type": "code",
   "execution_count": 835,
   "metadata": {},
   "outputs": [],
   "source": [
    "query_prop_all = \"\"\"\n",
    "PREFIX sh: <http://www.w3.org/ns/shacl#> \n",
    "PREFIX rdf: <http://www.w3.org/1999/02/22-rdf-syntax-ns#>\n",
    "\n",
    "CONSTRUCT {\n",
    "    $this sh:rule _:rule .\n",
    "    _:rule a sh:TripleRule ;\n",
    "        sh:object ?object ;\n",
    "        sh:predicate rdf:type ;\n",
    "        sh:subject _:subnode ;\n",
    "    .\n",
    "    _:subnode sh:path ?path ;\n",
    "    .\n",
    " }\n",
    "WHERE {\n",
    "$this a sh:NodeShape ;\n",
    "    (sh:or|sh:and)/rdf:rest*/rdf:first | sh:property ?propshape .\n",
    "?propshape sh:path ?path;\n",
    "    sh:node ?object .\n",
    "}\n",
    "\"\"\"\n",
    "query_node_all = \"\"\"\n",
    "PREFIX sh: <http://www.w3.org/ns/shacl#> \n",
    "PREFIX rdf: <http://www.w3.org/1999/02/22-rdf-syntax-ns#>\n",
    "\n",
    "CONSTRUCT {\n",
    "    $this sh:rule _:rule .\n",
    "    _:rule a sh:TripleRule ;\n",
    "        sh:object ?object ;\n",
    "        sh:predicate rdf:type ;\n",
    "        sh:subject sh:this ;\n",
    "    .\n",
    " }\n",
    "WHERE {\n",
    "    $this a sh:NodeShape ;\n",
    "    (sh:or|sh:and)/rdf:rest*/rdf:first | sh:node ?object.\n",
    "}\n",
    "\"\"\""
   ]
  },
  {
   "cell_type": "markdown",
   "metadata": {},
   "source": [
    "## Running Rules on various different patterns"
   ]
  },
  {
   "cell_type": "code",
   "execution_count": 836,
   "metadata": {},
   "outputs": [],
   "source": [
    "def run_validation(file):\n",
    "    g = Graph ()\n",
    "    g.parse(file)\n",
    "\n",
    "    # graph before validation\n",
    "    og = Graph()\n",
    "    pyshacl.rdfutil.clone.clone_graph(g, og)\n",
    "\n",
    "    g = g.query(query_prop_all).graph + g\n",
    "    g = g.query(query_node_all).graph + g\n",
    "\n",
    "    #shapes graph same as datagraph here\n",
    "    sg = Graph()\n",
    "    pyshacl.rdfutil.clone.clone_graph(g, sg)\n",
    "\n",
    "    valid, report_graph, report_text = pyshacl.validate(\n",
    "        data_graph=g,\n",
    "        shacl_graph=sg,\n",
    "        advanced=True,\n",
    "        js=True,\n",
    "        allow_warnings=False,\n",
    "        inplace=True,\n",
    "        iterate_rules=True, # If you iterate rules, this SPARQL construct for chain_rule won't work\n",
    "    )\n",
    "    # removing the original graph information from the validated/inferenced graph\n",
    "    # added_triples = g - og\n",
    "    # added_triples.print()\n",
    "    namespace_map = {}\n",
    "    for prefix, uriref in report_graph.namespaces():\n",
    "        namespace_map[prefix] = Namespace(uriref)\n",
    "        # Need OR for result Message\n",
    "    qs = \"\"\"\n",
    "        SELECT ?focusNode ?resultMessage ?resultSeverity ?resultPath\n",
    "        WHERE {\n",
    "        #    BIND(sh:Violation AS ?resultSeverity) .\n",
    "            ?report rdf:type sh:ValidationReport .\n",
    "            ?report sh:result ?result .\n",
    "            ?result sh:focusNode ?focusNode .\n",
    "            OPTIONAL {?result sh:resultMessage ?resultMessage} .\n",
    "            ?result sh:resultPath ?resultPath .\n",
    "            ?result sh:resultSeverity ?resultSeverity .\n",
    "            }\n",
    "        \"\"\"\n",
    "\n",
    "    # pretty colors\n",
    "    color_map = {SH.Violation: 33, SH.Info: 34, SH.Warning: 35}\n",
    "\n",
    "    # query\n",
    "    results = sorted(report_graph.query(qs, initNs=namespace_map))\n",
    "\n",
    "    prev = None\n",
    "    for focusNode, resultMessage,resultSeverity, resultPath in results:\n",
    "        if focusNode != prev:\n",
    "            print(focusNode)\n",
    "            prev = focusNode\n",
    "        color = color_map[resultSeverity]\n",
    "        print(f\"\\x1b[{color}m    {resultMessage}\\x1b[0m   {resultPath}\\x1b[0m\")\n",
    "    # recursive targetting"
   ]
  },
  {
   "cell_type": "code",
   "execution_count": 837,
   "metadata": {},
   "outputs": [
    {
     "name": "stdout",
     "output_type": "stream",
     "text": [
      "chaining_shapes.ttl\n",
      "http://example.org/testing#chaining\n",
      "\u001b[33m    Value does not conform to Shape test:chaining_nodeshape2\u001b[0m   http://example.org/testing#chain_prop\u001b[0m\n",
      "http://example.org/testing#chaining2\n",
      "\u001b[33m    Value does not conform to Shape test:chaining_nodeshape3\u001b[0m   http://example.org/testing#chain_prop\u001b[0m\n",
      "http://example.org/testing#chaining3\n",
      "\u001b[33m    bottom level propshape\u001b[0m   http://example.org/testing#chain_prop\u001b[0m\n",
      "chaining_and_or.ttl\n",
      "http://example.org/testing#fail_and_succeed_or\n",
      "\u001b[33m    bottom level constraint, directly failed, message should report\u001b[0m   http://example.org/testing#test_prop\u001b[0m\n",
      "http://example.org/testing#fail_or_succeed_and\n",
      "\u001b[33m    bottom level constraint, directly failed, message should report\u001b[0m   http://example.org/testing#test_prop\u001b[0m\n",
      "\u001b[33m    bottom level constraint, directly failed, message should report\u001b[0m   http://example.org/testing#test_prop\u001b[0m\n"
     ]
    }
   ],
   "source": [
    "files = ['chaining_shapes.ttl','chaining_and_or.ttl']\n",
    "for file in files:\n",
    "    print(file)\n",
    "    run_validation(file)"
   ]
  },
  {
   "cell_type": "markdown",
   "metadata": {},
   "source": [
    "## Dev"
   ]
  },
  {
   "cell_type": "code",
   "execution_count": null,
   "metadata": {},
   "outputs": [],
   "source": [
    "query_terminal_prop = \"\"\"\n",
    "PREFIX sh: <http://www.w3.org/ns/shacl#> \n",
    "PREFIX rdf: <http://www.w3.org/1999/02/22-rdf-syntax-ns#>\n",
    "\n",
    "CONSTRUCT {\n",
    "    $this sh:rule _:rule .\n",
    "    _:rule a sh:TripleRule ;\n",
    "        sh:object ?propshape ;\n",
    "        sh:predicate sh:property ;\n",
    "        sh:subject sh:this ;\n",
    "    .\n",
    "    $this sh:rule _:rule2 .\n",
    "    _:rule2 a sh:TripleRule ;\n",
    "        sh:object sh:NodeShape ;\n",
    "        sh:predicate rdf:type ;\n",
    "        sh:subject sh:this ;\n",
    "    .\n",
    "\n",
    " }\n",
    "WHERE {\n",
    "$this a sh:NodeShape ;\n",
    "    (sh:or|sh:and)/rdf:rest*/rdf:first | sh:property ?propshape .\n",
    "?propshape a sh:PropertyShape .\n",
    "}\n",
    "\"\"\""
   ]
  },
  {
   "cell_type": "code",
   "execution_count": 824,
   "metadata": {},
   "outputs": [
    {
     "data": {
      "text/plain": [
       "<Graph identifier=N34b6080ad57141028cb8c93303fad3f8 (<class 'rdflib.graph.Graph'>)>"
      ]
     },
     "execution_count": 824,
     "metadata": {},
     "output_type": "execute_result"
    }
   ],
   "source": [
    "file = 'SPARQL-test.ttl'\n",
    "file = 'construct_typing.ttl'\n",
    "file = 'chaining_shapes.ttl'\n",
    "file = 'chaining_and_or.ttl'\n",
    "file = 'sh-and-or-test.ttl'\n",
    "\n",
    "g = Graph ()\n",
    "g.parse(file)\n",
    "\n",
    "# graph before validation\n",
    "og = Graph()\n",
    "pyshacl.rdfutil.clone.clone_graph(g, og)\n",
    "\n",
    "g = g.query(query_prop_all).graph + g\n",
    "g = g.query(query_node_all).graph + g\n",
    "g = g.query(query_terminal_prop).graph + g\n",
    "\n",
    "#shapes graph same as datagraph here\n",
    "sg = Graph()\n",
    "pyshacl.rdfutil.clone.clone_graph(g, sg)\n",
    "# added_triples = g - og\n",
    "# added_triples.print()"
   ]
  },
  {
   "cell_type": "code",
   "execution_count": 828,
   "metadata": {},
   "outputs": [
    {
     "name": "stdout",
     "output_type": "stream",
     "text": [
      "@prefix ns1: <http://www.w3.org/ns/shacl#> .\n",
      "@prefix rdf: <http://www.w3.org/1999/02/22-rdf-syntax-ns#> .\n",
      "\n",
      "<http://example.org/testing#constraint> ns1:rule [ a ns1:TripleRule ;\n",
      "            ns1:object <http://example.org/testing#or_prop> ;\n",
      "            ns1:predicate rdf:type ;\n",
      "            ns1:subject ns1:this ],\n",
      "        [ a ns1:TripleRule ;\n",
      "            ns1:object <http://example.org/testing#and_prop> ;\n",
      "            ns1:predicate rdf:type ;\n",
      "            ns1:subject ns1:this ] .\n",
      "\n",
      "<http://example.org/testing#fail_and_succeed_or> a <http://example.org/testing#0_or_less>,\n",
      "        <http://example.org/testing#1_or_less>,\n",
      "        <http://example.org/testing#1_or_more>,\n",
      "        <http://example.org/testing#2_or_more>,\n",
      "        <http://example.org/testing#and_prop>,\n",
      "        <http://example.org/testing#or_prop>,\n",
      "        ns1:NodeShape ;\n",
      "    ns1:property <http://example.org/testing#0_or_less>,\n",
      "        <http://example.org/testing#1_or_less>,\n",
      "        <http://example.org/testing#1_or_more>,\n",
      "        <http://example.org/testing#2_or_more> .\n",
      "\n",
      "<http://example.org/testing#fail_or_succeed_and> a <http://example.org/testing#0_or_less>,\n",
      "        <http://example.org/testing#1_or_less>,\n",
      "        <http://example.org/testing#1_or_more>,\n",
      "        <http://example.org/testing#2_or_more>,\n",
      "        <http://example.org/testing#and_prop>,\n",
      "        <http://example.org/testing#or_prop>,\n",
      "        ns1:NodeShape ;\n",
      "    ns1:property <http://example.org/testing#0_or_less>,\n",
      "        <http://example.org/testing#1_or_less>,\n",
      "        <http://example.org/testing#1_or_more>,\n",
      "        <http://example.org/testing#2_or_more> .\n",
      "\n",
      "<http://example.org/testing#and_prop> ns1:rule [ a ns1:TripleRule ;\n",
      "            ns1:object <http://example.org/testing#1_or_less> ;\n",
      "            ns1:predicate rdf:type ;\n",
      "            ns1:subject ns1:this ],\n",
      "        [ a ns1:TripleRule ;\n",
      "            ns1:object ns1:NodeShape ;\n",
      "            ns1:predicate rdf:type ;\n",
      "            ns1:subject ns1:this ],\n",
      "        [ a ns1:TripleRule ;\n",
      "            ns1:object <http://example.org/testing#1_or_less> ;\n",
      "            ns1:predicate ns1:property ;\n",
      "            ns1:subject ns1:this ],\n",
      "        [ a ns1:TripleRule ;\n",
      "            ns1:object <http://example.org/testing#1_or_more> ;\n",
      "            ns1:predicate ns1:property ;\n",
      "            ns1:subject ns1:this ],\n",
      "        [ a ns1:TripleRule ;\n",
      "            ns1:object ns1:NodeShape ;\n",
      "            ns1:predicate rdf:type ;\n",
      "            ns1:subject ns1:this ],\n",
      "        [ a ns1:TripleRule ;\n",
      "            ns1:object <http://example.org/testing#1_or_more> ;\n",
      "            ns1:predicate ns1:property ;\n",
      "            ns1:subject ns1:this ],\n",
      "        [ a ns1:TripleRule ;\n",
      "            ns1:object <http://example.org/testing#1_or_more> ;\n",
      "            ns1:predicate rdf:type ;\n",
      "            ns1:subject ns1:this ],\n",
      "        [ a ns1:TripleRule ;\n",
      "            ns1:object <http://example.org/testing#1_or_less> ;\n",
      "            ns1:predicate ns1:property ;\n",
      "            ns1:subject ns1:this ] .\n",
      "\n",
      "<http://example.org/testing#or_prop> ns1:rule [ a ns1:TripleRule ;\n",
      "            ns1:object <http://example.org/testing#2_or_more> ;\n",
      "            ns1:predicate rdf:type ;\n",
      "            ns1:subject ns1:this ],\n",
      "        [ a ns1:TripleRule ;\n",
      "            ns1:object <http://example.org/testing#0_or_less> ;\n",
      "            ns1:predicate ns1:property ;\n",
      "            ns1:subject ns1:this ],\n",
      "        [ a ns1:TripleRule ;\n",
      "            ns1:object <http://example.org/testing#2_or_more> ;\n",
      "            ns1:predicate ns1:property ;\n",
      "            ns1:subject ns1:this ],\n",
      "        [ a ns1:TripleRule ;\n",
      "            ns1:object <http://example.org/testing#0_or_less> ;\n",
      "            ns1:predicate ns1:property ;\n",
      "            ns1:subject ns1:this ],\n",
      "        [ a ns1:TripleRule ;\n",
      "            ns1:object ns1:NodeShape ;\n",
      "            ns1:predicate rdf:type ;\n",
      "            ns1:subject ns1:this ],\n",
      "        [ a ns1:TripleRule ;\n",
      "            ns1:object ns1:NodeShape ;\n",
      "            ns1:predicate rdf:type ;\n",
      "            ns1:subject ns1:this ],\n",
      "        [ a ns1:TripleRule ;\n",
      "            ns1:object <http://example.org/testing#0_or_less> ;\n",
      "            ns1:predicate rdf:type ;\n",
      "            ns1:subject ns1:this ],\n",
      "        [ a ns1:TripleRule ;\n",
      "            ns1:object <http://example.org/testing#2_or_more> ;\n",
      "            ns1:predicate ns1:property ;\n",
      "            ns1:subject ns1:this ] .\n",
      "\n",
      "\n"
     ]
    }
   ],
   "source": [
    "valid, report_graph, report_text = pyshacl.validate(\n",
    "    data_graph=g,\n",
    "    shacl_graph=sg,\n",
    "    advanced=True,\n",
    "    js=True,\n",
    "    allow_warnings=False,\n",
    "    inplace=True,\n",
    "    iterate_rules=True, # If you iterate rules, this SPARQL construct for chain_rule won't work\n",
    ")\n",
    "# removing the original graph information from the validated/inferenced graph\n",
    "# added_triples = g - og\n",
    "# added_triples.print()\n",
    "namespace_map = {}\n",
    "for prefix, uriref in report_graph.namespaces():\n",
    "    namespace_map[prefix] = Namespace(uriref)\n",
    "    # Need OR for result Message\n",
    "qs = \"\"\"\n",
    "    SELECT ?focusNode ?resultMessage ?resultSeverity ?resultPath\n",
    "    WHERE {\n",
    "    #    BIND(sh:Violation AS ?resultSeverity) .\n",
    "        ?report rdf:type sh:ValidationReport .\n",
    "        ?report sh:result ?result .\n",
    "        ?result sh:focusNode ?focusNode .\n",
    "        OPTIONAL {?result sh:resultMessage ?resultMessage} .\n",
    "        ?result sh:resultPath ?resultPath .\n",
    "        ?result sh:resultSeverity ?resultSeverity .\n",
    "        }\n",
    "    \"\"\"\n",
    "\n",
    "# pretty colors\n",
    "color_map = {SH.Violation: 33, SH.Info: 34, SH.Warning: 35}\n",
    "\n",
    "# query\n",
    "results = sorted(report_graph.query(qs, initNs=namespace_map))\n",
    "\n",
    "prev = None\n",
    "for focusNode, resultMessage,resultSeverity, resultPath in results:\n",
    "    if focusNode != prev:\n",
    "        print(focusNode)\n",
    "        prev = focusNode\n",
    "    color = color_map[resultSeverity]\n",
    "    print(f\"\\x1b[{color}m    {resultMessage}\\x1b[0m   {resultPath}\\x1b[0m\")\n",
    "# recursive targetting"
   ]
  },
  {
   "cell_type": "code",
   "execution_count": 829,
   "metadata": {},
   "outputs": [
    {
     "name": "stdout",
     "output_type": "stream",
     "text": [
      "Validation Report\n",
      "Conforms: False\n",
      "Results (4):\n",
      "Constraint Violation in OrConstraintComponent (http://www.w3.org/ns/shacl#OrConstraintComponent):\n",
      "\tSeverity: sh:Violation\n",
      "\tSource Shape: test:or_prop\n",
      "\tFocus Node: test:fail_or_succeed_and\n",
      "\tValue Node: test:fail_or_succeed_and\n",
      "\tMessage: 2nd level and constraint\n",
      "Constraint Violation in AndConstraintComponent (http://www.w3.org/ns/shacl#AndConstraintComponent):\n",
      "\tSeverity: sh:Violation\n",
      "\tSource Shape: test:and_prop\n",
      "\tFocus Node: test:fail_and_succeed_or\n",
      "\tValue Node: test:fail_and_succeed_or\n",
      "\tMessage: 2nd level and constraint\n",
      "Constraint Violation in NodeConstraintComponent (http://www.w3.org/ns/shacl#NodeConstraintComponent):\n",
      "\tSeverity: sh:Violation\n",
      "\tSource Shape: test:constraint\n",
      "\tFocus Node: test:fail_and_succeed_or\n",
      "\tValue Node: test:fail_and_succeed_or\n",
      "\tMessage: top level constraint\n",
      "Constraint Violation in NodeConstraintComponent (http://www.w3.org/ns/shacl#NodeConstraintComponent):\n",
      "\tSeverity: sh:Violation\n",
      "\tSource Shape: test:constraint\n",
      "\tFocus Node: test:fail_or_succeed_and\n",
      "\tValue Node: test:fail_or_succeed_and\n",
      "\tMessage: top level constraint\n",
      "\n"
     ]
    }
   ],
   "source": [
    "print(report_text)"
   ]
  },
  {
   "cell_type": "code",
   "execution_count": 830,
   "metadata": {},
   "outputs": [],
   "source": [
    "\n",
    "\n",
    "#queryold queries\n",
    "query_node = \"\"\"\n",
    "PREFIX sh: <http://www.w3.org/ns/shacl#> \n",
    "PREFIX rdf: <http://www.w3.org/1999/02/22-rdf-syntax-ns#>\n",
    "\n",
    "CONSTRUCT {\n",
    "    $this sh:rule _:rule .\n",
    "    _:rule a sh:TripleRule ;\n",
    "        sh:object ?object ;\n",
    "        sh:predicate rdf:type ;\n",
    "        sh:subject sh:this ;\n",
    "    .\n",
    " }\n",
    "WHERE {\n",
    "$this a sh:NodeShape ;\n",
    "    sh:node ?object .\n",
    "}\n",
    "\"\"\"\n",
    "query_and = \"\"\"\n",
    "PREFIX sh: <http://www.w3.org/ns/shacl#> \n",
    "PREFIX rdf: <http://www.w3.org/1999/02/22-rdf-syntax-ns#>\n",
    "\n",
    "CONSTRUCT {\n",
    "    $this sh:rule _:rule .\n",
    "    _:rule a sh:TripleRule ;\n",
    "        sh:object ?object ;\n",
    "        sh:predicate rdf:type ;\n",
    "        sh:subject sh:this ;\n",
    "    .\n",
    " }\n",
    "WHERE {\n",
    "    $this a sh:NodeShape ;\n",
    "    sh:and/rdf:rest*/rdf:first ?object.\n",
    "}\n",
    "\"\"\"\n",
    "query_or = \"\"\"\n",
    "PREFIX sh: <http://www.w3.org/ns/shacl#> \n",
    "PREFIX rdf: <http://www.w3.org/1999/02/22-rdf-syntax-ns#>\n",
    "\n",
    "CONSTRUCT {\n",
    "    $this sh:rule _:rule .\n",
    "    _:rule a sh:TripleRule ;\n",
    "        sh:object ?object ;\n",
    "        sh:predicate rdf:type ;\n",
    "        sh:subject sh:this ;\n",
    "    .\n",
    " }\n",
    "WHERE {\n",
    "    $this a sh:NodeShape ;\n",
    "    sh:or/rdf:rest*/rdf:first ?object.\n",
    "}\n",
    "\"\"\"\n",
    "query_node_all = \"\"\"\n",
    "PREFIX sh: <http://www.w3.org/ns/shacl#> \n",
    "PREFIX rdf: <http://www.w3.org/1999/02/22-rdf-syntax-ns#>\n",
    "\n",
    "CONSTRUCT {\n",
    "    $this sh:rule _:rule .\n",
    "    _:rule a sh:TripleRule ;\n",
    "        sh:object ?object ;\n",
    "        sh:predicate rdf:type ;\n",
    "        sh:subject sh:this ;\n",
    "    .\n",
    " }\n",
    "WHERE {\n",
    "    $this a sh:NodeShape ;\n",
    "    sh:or/rdf:rest*/rdf:first | sh:and/rdf:rest*/rdf:first | sh:node ?object.\n",
    "}\n",
    "\"\"\""
   ]
  },
  {
   "cell_type": "code",
   "execution_count": null,
   "metadata": {},
   "outputs": [],
   "source": []
  }
 ],
 "metadata": {
  "kernelspec": {
   "display_name": "Python 3.9.13 ('si-builder')",
   "language": "python",
   "name": "python3"
  },
  "language_info": {
   "codemirror_mode": {
    "name": "ipython",
    "version": 3
   },
   "file_extension": ".py",
   "mimetype": "text/x-python",
   "name": "python",
   "nbconvert_exporter": "python",
   "pygments_lexer": "ipython3",
   "version": "3.9.13"
  },
  "orig_nbformat": 4,
  "vscode": {
   "interpreter": {
    "hash": "e9613e9bed14e4b8e07c6b3865c3348cec85d9ef797d1c6772eb9da8ede9a4ce"
   }
  }
 },
 "nbformat": 4,
 "nbformat_minor": 2
}
