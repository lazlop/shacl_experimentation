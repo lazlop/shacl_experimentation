{
 "cells": [
  {
   "cell_type": "code",
   "execution_count": 1,
   "metadata": {},
   "outputs": [],
   "source": [
    "from pyshacl.validate import Validator\n",
    "from rdflib import OWL, RDF, RDFS, SH, Graph, Namespace"
   ]
  },
  {
   "cell_type": "code",
   "execution_count": 2,
   "metadata": {},
   "outputs": [],
   "source": [
    "S223 = Namespace(\"http://data.ashrae.org/standard223#\")"
   ]
  },
  {
   "cell_type": "code",
   "execution_count": 3,
   "metadata": {},
   "outputs": [
    {
     "data": {
      "text/plain": [
       "<Graph identifier=Nbedbfdc3e60a444292b49b7f38d1767d (<class 'rdflib.graph.Graph'>)>"
      ]
     },
     "execution_count": 3,
     "metadata": {},
     "output_type": "execute_result"
    }
   ],
   "source": [
    "g = Graph()\n",
    "g.parse('../223standard/models/MODEL_SP223_core-v1.0.ttl')"
   ]
  },
  {
   "cell_type": "code",
   "execution_count": 5,
   "metadata": {},
   "outputs": [],
   "source": [
    "# Validation function for G36\n",
    "def run_validation(g, sg):\n",
    "    v = Validator(\n",
    "        g,\n",
    "        shacl_graph=sg,\n",
    "        options={\"iterate_rules\": True, \"advanced\": True},\n",
    "    )\n",
    "    conforms, report_graph, report_text = v.run()\n",
    "\n",
    "\n",
    "    namespace_map = {}\n",
    "    for prefix, uriref in report_graph.namespaces():\n",
    "        namespace_map[prefix] = Namespace(uriref)\n",
    "        # Need OR for result Message\n",
    "    qs = \"\"\"\n",
    "        SELECT ?focusNode ?resultMessage ?resultSeverity ?resultPath\n",
    "        WHERE {\n",
    "            BIND(s223:g36 AS ?resultSeverity) .\n",
    "            ?report rdf:type sh:ValidationReport .\n",
    "            ?report sh:result ?result .\n",
    "            ?result sh:focusNode ?focusNode .\n",
    "            OPTIONAL {?result sh:resultMessage ?resultMessage} .\n",
    "            ?result sh:resultPath ?resultPath .\n",
    "            ?result sh:resultSeverity ?resultSeverity .\n",
    "            }\n",
    "        \"\"\"\n",
    "\n",
    "    # pretty colors\n",
    "    color_map = {SH.Violation: 33, SH.Info: 34, SH.Warning: 35, S223.g36: 36}\n",
    "\n",
    "    # query\n",
    "    results = sorted(report_graph.query(qs, initNs=namespace_map))\n",
    "    \n",
    "    prev = None\n",
    "    for focusNode, resultMessage,resultSeverity, resultPath in results:\n",
    "        if focusNode != prev:\n",
    "            print(focusNode)\n",
    "            prev = focusNode\n",
    "        color = color_map[resultSeverity]\n",
    "        print(f\"\\x1b[{color}m    {resultMessage}\\x1b[0m   {resultPath}\\x1b[0m\")\n",
    "    return report_text"
   ]
  },
  {
   "cell_type": "markdown",
   "metadata": {
    "collapsed": "true"
   },
   "source": [
    "# g36 VAV Cooling Only"
   ]
  },
  {
   "cell_type": "code",
   "execution_count": 26,
   "metadata": {},
   "outputs": [
    {
     "data": {
      "text/plain": [
       "<Graph identifier=N10e98ee6438b476aa3e3970e9ed3e08a (<class 'rdflib.graph.Graph'>)>"
      ]
     },
     "execution_count": 26,
     "metadata": {},
     "output_type": "execute_result"
    }
   ],
   "source": [
    "g = Graph ()\n",
    "g.parse('vav41.ttl')\n",
    "\n",
    "#add model files from 223p repository if needed (input local paths and uncomment)\n",
    "#g.parse('../../223standard/models/MODEL_SP223_system-v1.0.ttl')\n",
    "\n",
    "\n",
    "sg = Graph()\n",
    "sg.parse('g36vav41.ttl')\n",
    "\n",
    "# Add main model files from s223 repository if needed\n",
    "# sg.parse('../../223standard/models/MODEL_SP223_core-v1.0.ttl')\n",
    "# sg.parse('../../223standard/models/MODEL_SP223_device-v1.0.ttl')\n",
    "# sg.parse('../../223standard/models/MODEL_SP223_system-v1.0.ttl')"
   ]
  },
  {
   "cell_type": "code",
   "execution_count": 27,
   "metadata": {},
   "outputs": [
    {
     "name": "stdout",
     "output_type": "stream",
     "text": [
      "http://data.ashrae.org/standard223/data/g36-figure-a-1#00019\n",
      "\u001b[36m    No Discharge Flow Property, try using vav-flow property instead\u001b[0m   http://data.ashrae.org/standard223#hasSystemConnectionPoint\u001b[0m\n"
     ]
    }
   ],
   "source": [
    "# Running validation, showing only when G36 rules have been violated.\n",
    "report_text = run_validation(g,sg)"
   ]
  },
  {
   "cell_type": "code",
   "execution_count": 28,
   "metadata": {},
   "outputs": [
    {
     "data": {
      "text/plain": [
       "True"
      ]
     },
     "execution_count": 28,
     "metadata": {},
     "output_type": "execute_result"
    }
   ],
   "source": [
    "'No Discharge Flow Property' in report_text"
   ]
  },
  {
   "cell_type": "code",
   "execution_count": 29,
   "metadata": {},
   "outputs": [],
   "source": [
    "# Can do minor changes to rules using SPARQL queries for testing\n",
    "# Here I am deactivating the discharge flow property shape, and looking for vav-flow instead\n",
    "update = \"\"\" \n",
    "    DELETE DATA {\n",
    "        :s223-discharge-flow sh:deactivated false .\n",
    "    } \"\"\"\n",
    "update2 = \"\"\"\n",
    "    INSERT DATA {\n",
    "        :s223-discharge-flow sh:deactivated true .\n",
    "    }\n",
    "\"\"\""
   ]
  },
  {
   "cell_type": "code",
   "execution_count": 30,
   "metadata": {},
   "outputs": [],
   "source": [
    "# Altering shacl rules using updates\n",
    "sg.update(update)\n",
    "sg.update(update2)"
   ]
  },
  {
   "cell_type": "code",
   "execution_count": 31,
   "metadata": {},
   "outputs": [],
   "source": [
    "report_text = run_validation(g,sg)"
   ]
  },
  {
   "cell_type": "code",
   "execution_count": 32,
   "metadata": {},
   "outputs": [
    {
     "data": {
      "text/plain": [
       "False"
      ]
     },
     "execution_count": 32,
     "metadata": {},
     "output_type": "execute_result"
    }
   ],
   "source": [
    "'No Discharge Flow Property' in report_text"
   ]
  },
  {
   "cell_type": "markdown",
   "metadata": {},
   "source": [
    "## Trying out Flow Or and sh:detail\n",
    "This is random experimentation to get experience writing shacl shapes works. Here I'm testing out using sh:and and sh:or on a simple model file that I've created"
   ]
  },
  {
   "cell_type": "code",
   "execution_count": 23,
   "metadata": {},
   "outputs": [
    {
     "data": {
      "text/plain": [
       "<Graph identifier=Nb687f0c9bb774c4ba54e75bbfe3aac75 (<class 'rdflib.graph.Graph'>)>"
      ]
     },
     "execution_count": 23,
     "metadata": {},
     "output_type": "execute_result"
    }
   ],
   "source": [
    "g = Graph ()\n",
    "g.parse('sh-and-or-test.ttl')\n",
    "\n",
    "\n",
    "sg = Graph()\n",
    "sg.parse('sh-and-or-test.ttl')"
   ]
  },
  {
   "cell_type": "code",
   "execution_count": 24,
   "metadata": {},
   "outputs": [],
   "source": [
    "v = Validator(\n",
    "        g,\n",
    "        shacl_graph=sg,\n",
    "        options={\"iterate_rules\": True, \"advanced\": True},\n",
    "    )\n",
    "conforms, report_graph, report_text = v.run()"
   ]
  },
  {
   "cell_type": "code",
   "execution_count": 25,
   "metadata": {},
   "outputs": [
    {
     "name": "stdout",
     "output_type": "stream",
     "text": [
      "Validation Report\n",
      "Conforms: False\n",
      "Results (2):\n",
      "Constraint Violation in NodeConstraintComponent (http://www.w3.org/ns/shacl#NodeConstraintComponent):\n",
      "\tSeverity: sh:Violation\n",
      "\tSource Shape: test:constraint\n",
      "\tFocus Node: test:fail_and_succeed_or\n",
      "\tValue Node: test:fail_and_succeed_or\n",
      "\tMessage: top level constraint\n",
      "Constraint Violation in NodeConstraintComponent (http://www.w3.org/ns/shacl#NodeConstraintComponent):\n",
      "\tSeverity: sh:Violation\n",
      "\tSource Shape: test:constraint\n",
      "\tFocus Node: test:fail_or_succeed_and\n",
      "\tValue Node: test:fail_or_succeed_and\n",
      "\tMessage: top level constraint\n",
      "\n"
     ]
    }
   ],
   "source": [
    "print(report_text)"
   ]
  },
  {
   "cell_type": "code",
   "execution_count": null,
   "metadata": {},
   "outputs": [],
   "source": []
  }
 ],
 "metadata": {
  "kernelspec": {
   "display_name": "Python 3.9.5 ('si-builder')",
   "language": "python",
   "name": "python3"
  },
  "language_info": {
   "codemirror_mode": {
    "name": "ipython",
    "version": 3
   },
   "file_extension": ".py",
   "mimetype": "text/x-python",
   "name": "python",
   "nbconvert_exporter": "python",
   "pygments_lexer": "ipython3",
   "version": "3.9.13"
  },
  "vscode": {
   "interpreter": {
    "hash": "e9613e9bed14e4b8e07c6b3865c3348cec85d9ef797d1c6772eb9da8ede9a4ce"
   }
  }
 },
 "nbformat": 4,
 "nbformat_minor": 4
}
