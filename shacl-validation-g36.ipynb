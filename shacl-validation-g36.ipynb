{
 "cells": [
  {
   "cell_type": "code",
   "execution_count": 2,
   "metadata": {},
   "outputs": [],
   "source": [
    "from pyshacl.validate import Validator\n",
    "from rdflib import OWL, RDF, RDFS, SH, Graph, Namespace"
   ]
  },
  {
   "cell_type": "code",
   "execution_count": 3,
   "metadata": {},
   "outputs": [],
   "source": [
    "S223 = Namespace(\"http://data.ashrae.org/standard223#\")"
   ]
  },
  {
   "cell_type": "code",
   "execution_count": 4,
   "metadata": {},
   "outputs": [],
   "source": [
    "g = Graph()\n",
    "#g.parse('../223standard/models/MODEL_SP223_core-v1.0.ttl')"
   ]
  },
  {
   "cell_type": "code",
   "execution_count": 5,
   "metadata": {},
   "outputs": [],
   "source": [
    "# Validation function for G36\n",
    "def run_validation(g, sg):\n",
    "    v = Validator(\n",
    "        g,\n",
    "        shacl_graph=sg,\n",
    "        options={\"iterate_rules\": True, \"advanced\": True},\n",
    "    )\n",
    "    conforms, report_graph, report_text = v.run()\n",
    "\n",
    "\n",
    "    namespace_map = {}\n",
    "    for prefix, uriref in report_graph.namespaces():\n",
    "        namespace_map[prefix] = Namespace(uriref)\n",
    "        # Need OR for result Message\n",
    "    qs = \"\"\"\n",
    "        SELECT ?focusNode ?resultMessage ?resultSeverity ?resultPath\n",
    "        WHERE {\n",
    "            BIND(s223:g36 AS ?resultSeverity) .\n",
    "            ?report rdf:type sh:ValidationReport .\n",
    "            ?report sh:result ?result .\n",
    "            ?result sh:focusNode ?focusNode .\n",
    "            OPTIONAL {?result sh:resultMessage ?resultMessage} .\n",
    "            ?result sh:resultPath ?resultPath .\n",
    "            ?result sh:resultSeverity ?resultSeverity .\n",
    "            }\n",
    "        \"\"\"\n",
    "\n",
    "    # pretty colors\n",
    "    color_map = {SH.Violation: 33, SH.Info: 34, SH.Warning: 35, S223.g36: 36}\n",
    "\n",
    "    # query\n",
    "    results = sorted(report_graph.query(qs, initNs=namespace_map))\n",
    "    \n",
    "    prev = None\n",
    "    for focusNode, resultMessage,resultSeverity, resultPath in results:\n",
    "        if focusNode != prev:\n",
    "            print(focusNode)\n",
    "            prev = focusNode\n",
    "        color = color_map[resultSeverity]\n",
    "        print(f\"\\x1b[{color}m    {resultMessage}\\x1b[0m   {resultPath}\\x1b[0m\")\n",
    "    return report_text"
   ]
  },
  {
   "cell_type": "markdown",
   "metadata": {
    "collapsed": "true"
   },
   "source": [
    "# g36 VAV Cooling Only"
   ]
  },
  {
   "cell_type": "code",
   "execution_count": 6,
   "metadata": {},
   "outputs": [
    {
     "data": {
      "text/plain": [
       "<Graph identifier=N620b3ed2d7554845857e33f2792c2774 (<class 'rdflib.graph.Graph'>)>"
      ]
     },
     "execution_count": 6,
     "metadata": {},
     "output_type": "execute_result"
    }
   ],
   "source": [
    "g = Graph ()\n",
    "g.parse('vav41.ttl', format = 'turtle')\n",
    "#need to specify format depending on version of rdflib\n",
    "\n",
    "#add model files from 223p repository if needed (input local paths and uncomment)\n",
    "#g.parse('../../223standard/models/MODEL_SP223_system-v1.0.ttl')\n",
    "\n",
    "\n",
    "sg = Graph()\n",
    "sg.parse('g36vav41.ttl', format = 'turtle')\n",
    "\n",
    "# Add main model files from s223 repository if needed\n",
    "# sg.parse('../../223standard/models/MODEL_SP223_core-v1.0.ttl')\n",
    "# sg.parse('../../223standard/models/MODEL_SP223_device-v1.0.ttl')\n",
    "# sg.parse('../../223standard/models/MODEL_SP223_system-v1.0.ttl')"
   ]
  },
  {
   "cell_type": "code",
   "execution_count": 7,
   "metadata": {},
   "outputs": [
    {
     "name": "stdout",
     "output_type": "stream",
     "text": [
      "http://data.ashrae.org/standard223/data/g36-figure-a-1#00019\n",
      "\u001b[36m    No Discharge Flow Property, try using vav-flow property instead\u001b[0m   http://data.ashrae.org/standard223#hasSystemConnectionPoint\u001b[0m\n"
     ]
    }
   ],
   "source": [
    "# Running validation, showing only when G36 rules have been violated.\n",
    "report_text = run_validation(g,sg)"
   ]
  },
  {
   "cell_type": "code",
   "execution_count": 8,
   "metadata": {},
   "outputs": [
    {
     "data": {
      "text/plain": [
       "True"
      ]
     },
     "execution_count": 8,
     "metadata": {},
     "output_type": "execute_result"
    }
   ],
   "source": [
    "'No Discharge Flow Property' in report_text"
   ]
  },
  {
   "cell_type": "code",
   "execution_count": 9,
   "metadata": {},
   "outputs": [],
   "source": [
    "# Can do minor changes to rules using SPARQL queries for testing\n",
    "# Here I am deactivating the discharge flow property shape, and looking for vav-flow instead\n",
    "update = \"\"\" \n",
    "    DELETE DATA {\n",
    "        :s223-discharge-flow sh:deactivated false .\n",
    "    } \"\"\"\n",
    "update2 = \"\"\"\n",
    "    INSERT DATA {\n",
    "        :s223-discharge-flow sh:deactivated true .\n",
    "    }\n",
    "\"\"\""
   ]
  },
  {
   "cell_type": "code",
   "execution_count": 10,
   "metadata": {},
   "outputs": [],
   "source": [
    "# Altering shacl rules using updates\n",
    "sg.update(update)\n",
    "sg.update(update2)"
   ]
  },
  {
   "cell_type": "code",
   "execution_count": 11,
   "metadata": {},
   "outputs": [],
   "source": [
    "report_text = run_validation(g,sg)"
   ]
  },
  {
   "cell_type": "code",
   "execution_count": 12,
   "metadata": {},
   "outputs": [
    {
     "data": {
      "text/plain": [
       "False"
      ]
     },
     "execution_count": 12,
     "metadata": {},
     "output_type": "execute_result"
    }
   ],
   "source": [
    "'No Discharge Flow Property' in report_text"
   ]
  },
  {
   "cell_type": "markdown",
   "metadata": {},
   "source": [
    "## Trying out Flow Or and sh:detail\n",
    "This is random experimentation to get experience writing shacl shapes works. Here I'm testing out using sh:and and sh:or on a simple model file that I've created"
   ]
  },
  {
   "cell_type": "code",
   "execution_count": 14,
   "metadata": {},
   "outputs": [
    {
     "name": "stdout",
     "output_type": "stream",
     "text": [
      "Validation Report\n",
      "Conforms: False\n",
      "Results (2):\n",
      "Constraint Violation in NodeConstraintComponent (http://www.w3.org/ns/shacl#NodeConstraintComponent):\n",
      "\tSeverity: sh:Violation\n",
      "\tSource Shape: test:constraint\n",
      "\tFocus Node: test:fail_and_succeed_or\n",
      "\tValue Node: test:fail_and_succeed_or\n",
      "\tMessage: top level constraint\n",
      "Constraint Violation in NodeConstraintComponent (http://www.w3.org/ns/shacl#NodeConstraintComponent):\n",
      "\tSeverity: sh:Violation\n",
      "\tSource Shape: test:constraint\n",
      "\tFocus Node: test:fail_or_succeed_and\n",
      "\tValue Node: test:fail_or_succeed_and\n",
      "\tMessage: top level constraint\n",
      "\n"
     ]
    }
   ],
   "source": [
    "file = 'sh-and-or-test.ttl'\n",
    "g = Graph ()\n",
    "g.parse(file)\n",
    "sg = Graph()\n",
    "sg.parse(file)\n",
    "v = Validator(\n",
    "        g,\n",
    "        shacl_graph=sg,\n",
    "        options={\"iterate_rules\": True, \"advanced\": True},\n",
    "    )\n",
    "conforms, report_graph, report_text = v.run()\n",
    "print(report_text)\n"
   ]
  },
  {
   "cell_type": "markdown",
   "metadata": {},
   "source": [
    "## Trying out subclass of carying sh:property constraints\n",
    "conclusion: targetClass is not inherited. SHACL constraints using target class can not use rdfs:subClassOf for inheritence.\n",
    "However, if a shape is a class (rdfs:Class), and subshapes are also rdfs:subclasses, then inheritance works. \n",
    "Instead of using sh:targetClass for targeting, the target must be an instance (a, rdf:type) of the constraint. \n",
    "rather than\n",
    ":constraint\n",
    "    a sh:NodeShape;\n",
    "    sh:targetClass :class .\n",
    "we should have \n",
    ":constraint \n",
    "    a sh:NodeShape, rdfs:Class ;\n",
    "    sh:class :class\n",
    ":instance\n",
    "    a :class ;\n",
    "    a :constraint ;\n",
    ".\n",
    "\n",
    "This could work by ADDING the triple \":instance a :constraint\" when validation is run. \n",
    "so, before validation the instance is just a :class \n",
    ":instance \n",
    "    a:class .\n",
    "then before validation is run, the instance is targetted by further describing what it should be (something satisfying :constraint).\n",
    "the instance is made \n",
    ":instance \n",
    "    a :class, :constraint .\n"
   ]
  },
  {
   "cell_type": "code",
   "execution_count": 39,
   "metadata": {},
   "outputs": [
    {
     "name": "stdout",
     "output_type": "stream",
     "text": [
      "Validation Report\n",
      "Conforms: False\n",
      "Results (1):\n",
      "Constraint Violation in MinCountConstraintComponent (http://www.w3.org/ns/shacl#MinCountConstraintComponent):\n",
      "\tSeverity: sh:Violation\n",
      "\tSource Shape: [ sh:minCount Literal(\"1\", datatype=xsd:integer) ; sh:path test:test_prop ]\n",
      "\tFocus Node: test:instance\n",
      "\tResult Path: test:test_prop\n",
      "\tMessage: Less than 1 values on test:instance->test:test_prop\n",
      "\n"
     ]
    }
   ],
   "source": [
    "file = 'subClass-test.ttl'\n",
    "g = Graph ()\n",
    "g.parse(file)\n",
    "sg = Graph()\n",
    "sg.parse(file)\n",
    "v = Validator(\n",
    "        g,\n",
    "        shacl_graph=sg,\n",
    "        options={\"iterate_rules\": True, \"advanced\": True},\n",
    "    )\n",
    "conforms, report_graph, report_text = v.run()\n",
    "print(report_text)\n"
   ]
  },
  {
   "cell_type": "code",
   "execution_count": null,
   "metadata": {},
   "outputs": [],
   "source": []
  }
 ],
 "metadata": {
  "kernelspec": {
   "display_name": "Python 3.9.13 ('si-builder')",
   "language": "python",
   "name": "python3"
  },
  "language_info": {
   "codemirror_mode": {
    "name": "ipython",
    "version": 3
   },
   "file_extension": ".py",
   "mimetype": "text/x-python",
   "name": "python",
   "nbconvert_exporter": "python",
   "pygments_lexer": "ipython3",
   "version": "3.9.13"
  },
  "vscode": {
   "interpreter": {
    "hash": "e9613e9bed14e4b8e07c6b3865c3348cec85d9ef797d1c6772eb9da8ede9a4ce"
   }
  }
 },
 "nbformat": 4,
 "nbformat_minor": 4
}
